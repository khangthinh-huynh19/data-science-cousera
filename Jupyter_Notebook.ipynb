{
 "cells": [
  {
   "cell_type": "markdown",
   "metadata": {},
   "source": [
    "<center>\n",
    "    <img src=\"https://cf-courses-data.s3.us.cloud-object-storage.appdomain.cloud/IBMDeveloperSkillsNetwork-DS0105EN-SkillsNetwork/labs/Module2/images/SN_web_lightmode.png\" width=\"300\" alt=\"cognitiveclass.ai logo\">\n",
    "</center>\n"
   ]
  },
  {
   "cell_type": "markdown",
   "metadata": {},
   "source": [
    "#### Add your code below following the instructions given in the course\n"
   ]
  },
  {
   "cell_type": "markdown",
   "metadata": {},
   "source": [
    "CUMULATIVE SUM AND MULTIPLY FUNCTIONS FOR 1 to N numbers"
   ]
  },
  {
   "cell_type": "markdown",
   "metadata": {},
   "source": [
    "Introduction: This noteboook is used to demonstrate the cumulative sum and multiply functions"
   ]
  },
  {
   "cell_type": "markdown",
   "metadata": {
    "tags": []
   },
   "source": [
    "Data Sciences Languages:\n",
    "1. Python\n",
    "2. R\n",
    "3. C++"
   ]
  },
  {
   "cell_type": "markdown",
   "metadata": {},
   "source": [
    "Data Science Libraries:\n",
    "1. SCIKIT LEARN\n",
    "2. PYTORCH\n",
    "3. KERAS\n",
    "4. TENSOR FLOW"
   ]
  },
  {
   "cell_type": "markdown",
   "metadata": {},
   "source": [
    "Data Science Tools:\n",
    "1. KNIME\n",
    "2. Apache Spark"
   ]
  },
  {
   "cell_type": "markdown",
   "metadata": {},
   "source": [
    "result = 1200 + 152 / 35"
   ]
  },
  {
   "cell_type": "code",
   "execution_count": 2,
   "metadata": {
    "tags": []
   },
   "outputs": [
    {
     "name": "stdout",
     "output_type": "stream",
     "text": [
      "Value of a is:  144\n"
     ]
    }
   ],
   "source": [
    "a = 12*12\n",
    "print(\"Value of a is: \", a)"
   ]
  },
  {
   "cell_type": "code",
   "execution_count": 3,
   "metadata": {
    "tags": []
   },
   "outputs": [
    {
     "name": "stdout",
     "output_type": "stream",
     "text": [
      "259 minutes is 4.316666666666666 hours\n"
     ]
    }
   ],
   "source": [
    "def min_to_hours(min):\n",
    "    hours = min / 60\n",
    "    return hours\n",
    "\n",
    "min = 259\n",
    "hours = min_to_hours(min = min)\n",
    "print(f\"{min} minutes is {hours} hours\")"
   ]
  },
  {
   "cell_type": "code",
   "execution_count": 4,
   "metadata": {
    "tags": []
   },
   "outputs": [
    {
     "name": "stdout",
     "output_type": "stream",
     "text": [
      "Total value of 0 to 10 is:  55\n"
     ]
    }
   ],
   "source": [
    "def cum_sum(n):\n",
    "    sum = 0\n",
    "    for i in range(0, n + 1):\n",
    "        sum += i\n",
    "    return sum\n",
    "\n",
    "n = 10\n",
    "print(\"Total value of 0 to 10 is: \", cum_sum(n))\n"
   ]
  },
  {
   "cell_type": "code",
   "execution_count": 7,
   "metadata": {
    "tags": []
   },
   "outputs": [
    {
     "name": "stdout",
     "output_type": "stream",
     "text": [
      "Total multiply of 1 to 10 is:  3628800\n"
     ]
    }
   ],
   "source": [
    "def cum_mul(n):\n",
    "    mul = 1\n",
    "    for i in range(1, n +1):\n",
    "        mul *= i\n",
    "    return mul\n",
    "\n",
    "n = 10\n",
    "print(\"Total multiply of 1 to 10 is: \", cum_mul(n))"
   ]
  },
  {
   "cell_type": "code",
   "execution_count": null,
   "metadata": {},
   "outputs": [],
   "source": []
  },
  {
   "cell_type": "markdown",
   "metadata": {},
   "source": [
    "Objectives:\n",
    "    1. Create a cumulative sum function\n",
    "    2. Create a cumulative multiply function"
   ]
  },
  {
   "cell_type": "markdown",
   "metadata": {},
   "source": [
    "Authors:\n",
    "    1. Khang Thinh"
   ]
  },
  {
   "cell_type": "code",
   "execution_count": null,
   "metadata": {},
   "outputs": [],
   "source": []
  }
 ],
 "metadata": {
  "kernelspec": {
   "display_name": "Python",
   "language": "python",
   "name": "conda-env-python-py"
  },
  "language_info": {
   "codemirror_mode": {
    "name": "ipython",
    "version": 3
   },
   "file_extension": ".py",
   "mimetype": "text/x-python",
   "name": "python",
   "nbconvert_exporter": "python",
   "pygments_lexer": "ipython3",
   "version": "3.7.12"
  }
 },
 "nbformat": 4,
 "nbformat_minor": 4
}
